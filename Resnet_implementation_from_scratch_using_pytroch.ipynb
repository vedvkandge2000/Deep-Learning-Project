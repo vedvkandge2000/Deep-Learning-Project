{
  "nbformat": 4,
  "nbformat_minor": 0,
  "metadata": {
    "colab": {
      "name": "Resnet implementation from scratch using pytroch.ipynb",
      "provenance": [],
      "collapsed_sections": [],
      "authorship_tag": "ABX9TyPMvLpWu4ttvymEkVagIKDF",
      "include_colab_link": true
    },
    "kernelspec": {
      "name": "python3",
      "display_name": "Python 3"
    },
    "accelerator": "GPU",
    "widgets": {
      "application/vnd.jupyter.widget-state+json": {
        "22fc3cb9aaf147feb68a15f77c827be1": {
          "model_module": "@jupyter-widgets/controls",
          "model_name": "HBoxModel",
          "state": {
            "_view_name": "HBoxView",
            "_dom_classes": [],
            "_model_name": "HBoxModel",
            "_view_module": "@jupyter-widgets/controls",
            "_model_module_version": "1.5.0",
            "_view_count": null,
            "_view_module_version": "1.5.0",
            "box_style": "",
            "layout": "IPY_MODEL_fda2be11de904407a0c47c7580e4f1be",
            "_model_module": "@jupyter-widgets/controls",
            "children": [
              "IPY_MODEL_829499bf53f94bf3b38d1cc4dace0a55",
              "IPY_MODEL_db9bf9ee5499459a9ac1efb39c85bc2b"
            ]
          }
        },
        "fda2be11de904407a0c47c7580e4f1be": {
          "model_module": "@jupyter-widgets/base",
          "model_name": "LayoutModel",
          "state": {
            "_view_name": "LayoutView",
            "grid_template_rows": null,
            "right": null,
            "justify_content": null,
            "_view_module": "@jupyter-widgets/base",
            "overflow": null,
            "_model_module_version": "1.2.0",
            "_view_count": null,
            "flex_flow": null,
            "width": null,
            "min_width": null,
            "border": null,
            "align_items": null,
            "bottom": null,
            "_model_module": "@jupyter-widgets/base",
            "top": null,
            "grid_column": null,
            "overflow_y": null,
            "overflow_x": null,
            "grid_auto_flow": null,
            "grid_area": null,
            "grid_template_columns": null,
            "flex": null,
            "_model_name": "LayoutModel",
            "justify_items": null,
            "grid_row": null,
            "max_height": null,
            "align_content": null,
            "visibility": null,
            "align_self": null,
            "height": null,
            "min_height": null,
            "padding": null,
            "grid_auto_rows": null,
            "grid_gap": null,
            "max_width": null,
            "order": null,
            "_view_module_version": "1.2.0",
            "grid_template_areas": null,
            "object_position": null,
            "object_fit": null,
            "grid_auto_columns": null,
            "margin": null,
            "display": null,
            "left": null
          }
        },
        "829499bf53f94bf3b38d1cc4dace0a55": {
          "model_module": "@jupyter-widgets/controls",
          "model_name": "FloatProgressModel",
          "state": {
            "_view_name": "ProgressView",
            "style": "IPY_MODEL_fc3732a55a4b4c44a04590d0e16a230d",
            "_dom_classes": [],
            "description": "",
            "_model_name": "FloatProgressModel",
            "bar_style": "info",
            "max": 1,
            "_view_module": "@jupyter-widgets/controls",
            "_model_module_version": "1.5.0",
            "value": 1,
            "_view_count": null,
            "_view_module_version": "1.5.0",
            "orientation": "horizontal",
            "min": 0,
            "description_tooltip": null,
            "_model_module": "@jupyter-widgets/controls",
            "layout": "IPY_MODEL_04f0c7ddffaa45a1ad1f1971ba6230b1"
          }
        },
        "db9bf9ee5499459a9ac1efb39c85bc2b": {
          "model_module": "@jupyter-widgets/controls",
          "model_name": "HTMLModel",
          "state": {
            "_view_name": "HTMLView",
            "style": "IPY_MODEL_d4e93731ca8847cf9b0e731c012be174",
            "_dom_classes": [],
            "description": "",
            "_model_name": "HTMLModel",
            "placeholder": "​",
            "_view_module": "@jupyter-widgets/controls",
            "_model_module_version": "1.5.0",
            "value": " 170500096/? [00:30&lt;00:00, 18654880.59it/s]",
            "_view_count": null,
            "_view_module_version": "1.5.0",
            "description_tooltip": null,
            "_model_module": "@jupyter-widgets/controls",
            "layout": "IPY_MODEL_630d109b857341c189b58c2506e228cc"
          }
        },
        "fc3732a55a4b4c44a04590d0e16a230d": {
          "model_module": "@jupyter-widgets/controls",
          "model_name": "ProgressStyleModel",
          "state": {
            "_view_name": "StyleView",
            "_model_name": "ProgressStyleModel",
            "description_width": "initial",
            "_view_module": "@jupyter-widgets/base",
            "_model_module_version": "1.5.0",
            "_view_count": null,
            "_view_module_version": "1.2.0",
            "bar_color": null,
            "_model_module": "@jupyter-widgets/controls"
          }
        },
        "04f0c7ddffaa45a1ad1f1971ba6230b1": {
          "model_module": "@jupyter-widgets/base",
          "model_name": "LayoutModel",
          "state": {
            "_view_name": "LayoutView",
            "grid_template_rows": null,
            "right": null,
            "justify_content": null,
            "_view_module": "@jupyter-widgets/base",
            "overflow": null,
            "_model_module_version": "1.2.0",
            "_view_count": null,
            "flex_flow": null,
            "width": null,
            "min_width": null,
            "border": null,
            "align_items": null,
            "bottom": null,
            "_model_module": "@jupyter-widgets/base",
            "top": null,
            "grid_column": null,
            "overflow_y": null,
            "overflow_x": null,
            "grid_auto_flow": null,
            "grid_area": null,
            "grid_template_columns": null,
            "flex": null,
            "_model_name": "LayoutModel",
            "justify_items": null,
            "grid_row": null,
            "max_height": null,
            "align_content": null,
            "visibility": null,
            "align_self": null,
            "height": null,
            "min_height": null,
            "padding": null,
            "grid_auto_rows": null,
            "grid_gap": null,
            "max_width": null,
            "order": null,
            "_view_module_version": "1.2.0",
            "grid_template_areas": null,
            "object_position": null,
            "object_fit": null,
            "grid_auto_columns": null,
            "margin": null,
            "display": null,
            "left": null
          }
        },
        "d4e93731ca8847cf9b0e731c012be174": {
          "model_module": "@jupyter-widgets/controls",
          "model_name": "DescriptionStyleModel",
          "state": {
            "_view_name": "StyleView",
            "_model_name": "DescriptionStyleModel",
            "description_width": "",
            "_view_module": "@jupyter-widgets/base",
            "_model_module_version": "1.5.0",
            "_view_count": null,
            "_view_module_version": "1.2.0",
            "_model_module": "@jupyter-widgets/controls"
          }
        },
        "630d109b857341c189b58c2506e228cc": {
          "model_module": "@jupyter-widgets/base",
          "model_name": "LayoutModel",
          "state": {
            "_view_name": "LayoutView",
            "grid_template_rows": null,
            "right": null,
            "justify_content": null,
            "_view_module": "@jupyter-widgets/base",
            "overflow": null,
            "_model_module_version": "1.2.0",
            "_view_count": null,
            "flex_flow": null,
            "width": null,
            "min_width": null,
            "border": null,
            "align_items": null,
            "bottom": null,
            "_model_module": "@jupyter-widgets/base",
            "top": null,
            "grid_column": null,
            "overflow_y": null,
            "overflow_x": null,
            "grid_auto_flow": null,
            "grid_area": null,
            "grid_template_columns": null,
            "flex": null,
            "_model_name": "LayoutModel",
            "justify_items": null,
            "grid_row": null,
            "max_height": null,
            "align_content": null,
            "visibility": null,
            "align_self": null,
            "height": null,
            "min_height": null,
            "padding": null,
            "grid_auto_rows": null,
            "grid_gap": null,
            "max_width": null,
            "order": null,
            "_view_module_version": "1.2.0",
            "grid_template_areas": null,
            "object_position": null,
            "object_fit": null,
            "grid_auto_columns": null,
            "margin": null,
            "display": null,
            "left": null
          }
        }
      }
    }
  },
  "cells": [
    {
      "cell_type": "markdown",
      "metadata": {
        "id": "view-in-github",
        "colab_type": "text"
      },
      "source": [
        "<a href=\"https://colab.research.google.com/github/vedvkandge2000/Deep-Learning-Project/blob/master/Resnet_implementation_from_scratch_using_pytroch.ipynb\" target=\"_parent\"><img src=\"https://colab.research.google.com/assets/colab-badge.svg\" alt=\"Open In Colab\"/></a>"
      ]
    },
    {
      "cell_type": "code",
      "metadata": {
        "id": "8bq-2kIL0KgV",
        "colab_type": "code",
        "colab": {}
      },
      "source": [
        "import torch\n",
        "import torch.nn as nn\n",
        "import torchvision\n",
        "import torchvision.transforms as transforms"
      ],
      "execution_count": null,
      "outputs": []
    },
    {
      "cell_type": "code",
      "metadata": {
        "id": "ozaHq4qr1sP-",
        "colab_type": "code",
        "colab": {
          "base_uri": "https://localhost:8080/",
          "height": 82,
          "referenced_widgets": [
            "22fc3cb9aaf147feb68a15f77c827be1",
            "fda2be11de904407a0c47c7580e4f1be",
            "829499bf53f94bf3b38d1cc4dace0a55",
            "db9bf9ee5499459a9ac1efb39c85bc2b",
            "fc3732a55a4b4c44a04590d0e16a230d",
            "04f0c7ddffaa45a1ad1f1971ba6230b1",
            "d4e93731ca8847cf9b0e731c012be174",
            "630d109b857341c189b58c2506e228cc"
          ]
        },
        "outputId": "98bda650-c3ac-4f73-cad1-d442d5585f6e"
      },
      "source": [
        "# Device configuration\n",
        "device = torch.device('cuda' if torch.cuda.is_available() else 'cpu')\n",
        "\n",
        "# Hyper-parameters\n",
        "num_epochs = 25\n",
        "batch_size = 100\n",
        "learning_rate = 0.001\n",
        "\n",
        "# Image preprocessing modules\n",
        "transform = transforms.Compose([\n",
        "  transforms.Pad(4),\n",
        "  transforms.RandomHorizontalFlip(),\n",
        "  transforms.RandomCrop(32),\n",
        "  transforms.ToTensor()])\n",
        "\n",
        "# CIFAR-10 dataset\n",
        "train_dataset = torchvision.datasets.CIFAR10(root='/content/Data',\n",
        "                                             train=True, \n",
        "                                             transform=transform,\n",
        "                                             download=True)\n",
        "\n",
        "test_dataset = torchvision.datasets.CIFAR10(root='/content/Data',\n",
        "                                            train=False, \n",
        "                                            transform=transforms.ToTensor())\n",
        "\n",
        "# Data loader\n",
        "train_loader = torch.utils.data.DataLoader(dataset=train_dataset,\n",
        "                                           batch_size=batch_size,\n",
        "                                           shuffle=True)\n",
        "\n",
        "test_loader = torch.utils.data.DataLoader(dataset=test_dataset,\n",
        "                                          batch_size=batch_size,\n",
        "                                          shuffle=False)"
      ],
      "execution_count": null,
      "outputs": [
        {
          "output_type": "stream",
          "text": [
            "Downloading https://www.cs.toronto.edu/~kriz/cifar-10-python.tar.gz to /content/Data/cifar-10-python.tar.gz\n"
          ],
          "name": "stdout"
        },
        {
          "output_type": "display_data",
          "data": {
            "application/vnd.jupyter.widget-view+json": {
              "model_id": "22fc3cb9aaf147feb68a15f77c827be1",
              "version_minor": 0,
              "version_major": 2
            },
            "text/plain": [
              "HBox(children=(FloatProgress(value=1.0, bar_style='info', max=1.0), HTML(value='')))"
            ]
          },
          "metadata": {
            "tags": []
          }
        },
        {
          "output_type": "stream",
          "text": [
            "Extracting /content/Data/cifar-10-python.tar.gz to /content/Data\n"
          ],
          "name": "stdout"
        }
      ]
    },
    {
      "cell_type": "code",
      "metadata": {
        "id": "5hAeIn7G4kzQ",
        "colab_type": "code",
        "colab": {}
      },
      "source": [
        "def conv3x3(in_channels, out_channels, stride = 1):\n",
        "  return nn.Conv2d(in_channels, out_channels, kernel_size = 3, stride = stride, padding = 1, bias = False)\n",
        "\n",
        "class ResidualBlock(nn.Module):\n",
        "  def __init__(self, in_channels, out_channels, stride = 1, downsampling = None):\n",
        "    super(ResidualBlock, self).__init__()\n",
        "    self.conv1 = conv3x3(in_channels,out_channels,stride)\n",
        "    self.bn1 = nn.BatchNorm2d(out_channels)\n",
        "    self.relu = nn.ReLU(inplace=True)\n",
        "    self.conv2 = conv3x3(out_channels, out_channels)\n",
        "    self.bn2 = nn.BatchNorm2d(out_channels)\n",
        "    self.downsampling = downsampling\n",
        "\n",
        "  def forward(self,x):\n",
        "    residual = x.clone()\n",
        "    out = self.conv1(x)\n",
        "    out = self.bn1(out)\n",
        "    out = self.relu(out)\n",
        "    out = self.conv2(out)\n",
        "    out = self.bn2(out)\n",
        "    if self.downsampling:\n",
        "      residual = self.downsampling(x)\n",
        "    out += residual\n",
        "    out = self.relu(out)\n",
        "    return out"
      ],
      "execution_count": null,
      "outputs": []
    },
    {
      "cell_type": "code",
      "metadata": {
        "id": "5BWxDg91B8Sc",
        "colab_type": "code",
        "colab": {}
      },
      "source": [
        "class ResNet(nn.Module):\n",
        "  def __init__(self, block, layers, num_classes = 10):\n",
        "    \"\"\"\n",
        "    Layers will be a list here [2,2,2]\n",
        "    \"\"\"\n",
        "    super(ResNet, self).__init__()\n",
        "    self.in_channels = 16\n",
        "    self.conv = conv3x3(3, 16)\n",
        "    self.bn = nn.BatchNorm2d(16)\n",
        "    self.relu = nn.ReLU(inplace=True)\n",
        "    self.layer1 = self.make_layer(block, 16, layers[0], stride = 1)\n",
        "    self.layer2 = self.make_layer(block, 32, layers[1], stride = 2)\n",
        "    self.layer3 = self.make_layer(block, 64, layers[2], stride = 2)\n",
        "    self.avg_pool = nn.AvgPool2d(8)\n",
        "    self.fc = nn.Linear(64, num_classes)\n",
        "  \n",
        "  def make_layer(self, block, out_channels, blocks, stride = 1):\n",
        "    downsampling = None\n",
        "    if (self.in_channels != out_channels) or (stride != 1):\n",
        "      downsampling = nn.Sequential(conv3x3(self.in_channels, out_channels, stride = stride),\n",
        "                                   nn.BatchNorm2d(out_channels))\n",
        "    \n",
        "    residual_block = []\n",
        "    residual_block.append(block(self.in_channels, out_channels, stride = stride, downsampling = downsampling))\n",
        "    self.in_channels = out_channels\n",
        "    residual_block.append(block(out_channels, out_channels))\n",
        "    return nn.Sequential(*residual_block)\n",
        "\n",
        "  def forward(self, x):\n",
        "    out = self.conv(x)\n",
        "    out = self.bn(out)\n",
        "    out = self.relu(out)\n",
        "    out = self.layer1(out)\n",
        "    out = self.layer2(out)\n",
        "    out = self.layer3(out)\n",
        "    out = self.avg_pool(out)\n",
        "    out = out.view(out.size(0), -1)\n",
        "    out = self.fc(out)\n",
        "    return out\n"
      ],
      "execution_count": null,
      "outputs": []
    },
    {
      "cell_type": "code",
      "metadata": {
        "id": "rbBFUUqWHl-9",
        "colab_type": "code",
        "colab": {}
      },
      "source": [
        "model = ResNet(ResidualBlock, [2,2,2]).to(device)\n",
        "criterion = nn.CrossEntropyLoss()\n",
        "optimizer = torch.optim.Adam(model.parameters(), lr = learning_rate)"
      ],
      "execution_count": null,
      "outputs": []
    },
    {
      "cell_type": "code",
      "metadata": {
        "id": "ZDsAtrt6IpAw",
        "colab_type": "code",
        "colab": {
          "base_uri": "https://localhost:8080/",
          "height": 1000
        },
        "outputId": "a335cf6a-d88a-44c9-9a0e-33e24507f834"
      },
      "source": [
        "decay = 0\n",
        "model.train()\n",
        "for epoch in range(num_epochs):\n",
        "    \n",
        "    # Decay the learning rate every 20 epochs\n",
        "    if (epoch+1) % 20 == 0:\n",
        "        decay+=1\n",
        "        optimizer.param_groups[0]['lr'] = learning_rate * (0.5**decay)\n",
        "        print(\"The new learning rate is {}\".format(optimizer.param_groups[0]['lr']))\n",
        "        \n",
        "    for i, (images, labels) in enumerate(train_loader):\n",
        "        images = images.to(device)\n",
        "        labels = labels.to(device)\n",
        "        outputs = model(images)\n",
        "        loss = criterion(outputs, labels)\n",
        "        optimizer.zero_grad()\n",
        "        loss.backward()\n",
        "        optimizer.step()\n",
        "        \n",
        "        if (i+1) % 100 == 0:\n",
        "            print (\"Epoch [{}/{}], Step [{}/{}] Loss: {:.4f}\"\n",
        "                   .format(epoch+1, num_epochs, i+1, len(train_loader), loss.item()))"
      ],
      "execution_count": null,
      "outputs": [
        {
          "output_type": "stream",
          "text": [
            "Epoch [1/25], Step [100/500] Loss: 1.5659\n",
            "Epoch [1/25], Step [200/500] Loss: 1.4346\n",
            "Epoch [1/25], Step [300/500] Loss: 1.3424\n",
            "Epoch [1/25], Step [400/500] Loss: 1.1949\n",
            "Epoch [1/25], Step [500/500] Loss: 1.1089\n",
            "Epoch [2/25], Step [100/500] Loss: 1.4019\n",
            "Epoch [2/25], Step [200/500] Loss: 1.2321\n",
            "Epoch [2/25], Step [300/500] Loss: 1.0077\n",
            "Epoch [2/25], Step [400/500] Loss: 1.1205\n",
            "Epoch [2/25], Step [500/500] Loss: 1.0683\n",
            "Epoch [3/25], Step [100/500] Loss: 0.9032\n",
            "Epoch [3/25], Step [200/500] Loss: 0.8409\n",
            "Epoch [3/25], Step [300/500] Loss: 1.0591\n",
            "Epoch [3/25], Step [400/500] Loss: 0.9951\n",
            "Epoch [3/25], Step [500/500] Loss: 0.9443\n",
            "Epoch [4/25], Step [100/500] Loss: 0.9043\n",
            "Epoch [4/25], Step [200/500] Loss: 0.7249\n",
            "Epoch [4/25], Step [300/500] Loss: 0.7321\n",
            "Epoch [4/25], Step [400/500] Loss: 0.7642\n",
            "Epoch [4/25], Step [500/500] Loss: 0.8414\n",
            "Epoch [5/25], Step [100/500] Loss: 0.8276\n",
            "Epoch [5/25], Step [200/500] Loss: 0.7883\n",
            "Epoch [5/25], Step [300/500] Loss: 0.7709\n",
            "Epoch [5/25], Step [400/500] Loss: 0.6742\n",
            "Epoch [5/25], Step [500/500] Loss: 0.8152\n",
            "Epoch [6/25], Step [100/500] Loss: 0.6812\n",
            "Epoch [6/25], Step [200/500] Loss: 0.6786\n",
            "Epoch [6/25], Step [300/500] Loss: 0.5597\n",
            "Epoch [6/25], Step [400/500] Loss: 0.7875\n",
            "Epoch [6/25], Step [500/500] Loss: 0.5980\n",
            "Epoch [7/25], Step [100/500] Loss: 0.5046\n",
            "Epoch [7/25], Step [200/500] Loss: 0.5571\n",
            "Epoch [7/25], Step [300/500] Loss: 0.6290\n",
            "Epoch [7/25], Step [400/500] Loss: 0.6090\n",
            "Epoch [7/25], Step [500/500] Loss: 0.5581\n",
            "Epoch [8/25], Step [100/500] Loss: 0.5458\n",
            "Epoch [8/25], Step [200/500] Loss: 0.7896\n",
            "Epoch [8/25], Step [300/500] Loss: 0.7810\n",
            "Epoch [8/25], Step [400/500] Loss: 0.5803\n",
            "Epoch [8/25], Step [500/500] Loss: 0.6903\n",
            "Epoch [9/25], Step [100/500] Loss: 0.6369\n",
            "Epoch [9/25], Step [200/500] Loss: 0.5040\n",
            "Epoch [9/25], Step [300/500] Loss: 0.4998\n",
            "Epoch [9/25], Step [400/500] Loss: 0.6264\n",
            "Epoch [9/25], Step [500/500] Loss: 0.3917\n",
            "Epoch [10/25], Step [100/500] Loss: 0.4664\n",
            "Epoch [10/25], Step [200/500] Loss: 0.4910\n",
            "Epoch [10/25], Step [300/500] Loss: 0.5501\n",
            "Epoch [10/25], Step [400/500] Loss: 0.5545\n",
            "Epoch [10/25], Step [500/500] Loss: 0.8283\n",
            "Epoch [11/25], Step [100/500] Loss: 0.5925\n",
            "Epoch [11/25], Step [200/500] Loss: 0.5598\n",
            "Epoch [11/25], Step [300/500] Loss: 0.5796\n",
            "Epoch [11/25], Step [400/500] Loss: 0.4812\n",
            "Epoch [11/25], Step [500/500] Loss: 0.5403\n",
            "Epoch [12/25], Step [100/500] Loss: 0.4854\n",
            "Epoch [12/25], Step [200/500] Loss: 0.5382\n",
            "Epoch [12/25], Step [300/500] Loss: 0.3193\n",
            "Epoch [12/25], Step [400/500] Loss: 0.5180\n",
            "Epoch [12/25], Step [500/500] Loss: 0.4135\n",
            "Epoch [13/25], Step [100/500] Loss: 0.4997\n",
            "Epoch [13/25], Step [200/500] Loss: 0.4208\n",
            "Epoch [13/25], Step [300/500] Loss: 0.5565\n",
            "Epoch [13/25], Step [400/500] Loss: 0.3995\n",
            "Epoch [13/25], Step [500/500] Loss: 0.4022\n",
            "Epoch [14/25], Step [100/500] Loss: 0.5379\n",
            "Epoch [14/25], Step [200/500] Loss: 0.3707\n",
            "Epoch [14/25], Step [300/500] Loss: 0.4355\n",
            "Epoch [14/25], Step [400/500] Loss: 0.3887\n",
            "Epoch [14/25], Step [500/500] Loss: 0.4614\n",
            "Epoch [15/25], Step [100/500] Loss: 0.3876\n",
            "Epoch [15/25], Step [200/500] Loss: 0.5112\n",
            "Epoch [15/25], Step [300/500] Loss: 0.5286\n",
            "Epoch [15/25], Step [400/500] Loss: 0.4986\n",
            "Epoch [15/25], Step [500/500] Loss: 0.3848\n",
            "Epoch [16/25], Step [100/500] Loss: 0.4510\n",
            "Epoch [16/25], Step [200/500] Loss: 0.3615\n",
            "Epoch [16/25], Step [300/500] Loss: 0.4214\n",
            "Epoch [16/25], Step [400/500] Loss: 0.5355\n",
            "Epoch [16/25], Step [500/500] Loss: 0.4271\n",
            "Epoch [17/25], Step [100/500] Loss: 0.3024\n",
            "Epoch [17/25], Step [200/500] Loss: 0.5836\n",
            "Epoch [17/25], Step [300/500] Loss: 0.4656\n",
            "Epoch [17/25], Step [400/500] Loss: 0.4737\n",
            "Epoch [17/25], Step [500/500] Loss: 0.4863\n",
            "Epoch [18/25], Step [100/500] Loss: 0.3102\n",
            "Epoch [18/25], Step [200/500] Loss: 0.3480\n",
            "Epoch [18/25], Step [300/500] Loss: 0.4599\n",
            "Epoch [18/25], Step [400/500] Loss: 0.3729\n",
            "Epoch [18/25], Step [500/500] Loss: 0.4668\n",
            "Epoch [19/25], Step [100/500] Loss: 0.3869\n",
            "Epoch [19/25], Step [200/500] Loss: 0.4967\n",
            "Epoch [19/25], Step [300/500] Loss: 0.5687\n",
            "Epoch [19/25], Step [400/500] Loss: 0.3875\n",
            "Epoch [19/25], Step [500/500] Loss: 0.3739\n",
            "The new learning rate is 0.0005\n",
            "Epoch [20/25], Step [100/500] Loss: 0.5121\n",
            "Epoch [20/25], Step [200/500] Loss: 0.3050\n",
            "Epoch [20/25], Step [300/500] Loss: 0.4704\n",
            "Epoch [20/25], Step [400/500] Loss: 0.3972\n",
            "Epoch [20/25], Step [500/500] Loss: 0.3481\n",
            "Epoch [21/25], Step [100/500] Loss: 0.3231\n",
            "Epoch [21/25], Step [200/500] Loss: 0.4730\n",
            "Epoch [21/25], Step [300/500] Loss: 0.3099\n",
            "Epoch [21/25], Step [400/500] Loss: 0.3746\n",
            "Epoch [21/25], Step [500/500] Loss: 0.5096\n",
            "Epoch [22/25], Step [100/500] Loss: 0.3131\n",
            "Epoch [22/25], Step [200/500] Loss: 0.4452\n",
            "Epoch [22/25], Step [300/500] Loss: 0.4583\n",
            "Epoch [22/25], Step [400/500] Loss: 0.4831\n",
            "Epoch [22/25], Step [500/500] Loss: 0.4885\n",
            "Epoch [23/25], Step [100/500] Loss: 0.3254\n",
            "Epoch [23/25], Step [200/500] Loss: 0.3797\n",
            "Epoch [23/25], Step [300/500] Loss: 0.4296\n",
            "Epoch [23/25], Step [400/500] Loss: 0.5229\n",
            "Epoch [23/25], Step [500/500] Loss: 0.4759\n",
            "Epoch [24/25], Step [100/500] Loss: 0.3671\n",
            "Epoch [24/25], Step [200/500] Loss: 0.3074\n",
            "Epoch [24/25], Step [300/500] Loss: 0.3221\n",
            "Epoch [24/25], Step [400/500] Loss: 0.3287\n",
            "Epoch [24/25], Step [500/500] Loss: 0.3527\n",
            "Epoch [25/25], Step [100/500] Loss: 0.4910\n",
            "Epoch [25/25], Step [200/500] Loss: 0.3761\n",
            "Epoch [25/25], Step [300/500] Loss: 0.1882\n",
            "Epoch [25/25], Step [400/500] Loss: 0.4042\n",
            "Epoch [25/25], Step [500/500] Loss: 0.3564\n"
          ],
          "name": "stdout"
        }
      ]
    },
    {
      "cell_type": "code",
      "metadata": {
        "id": "_6v_46hkJ4Ny",
        "colab_type": "code",
        "colab": {
          "base_uri": "https://localhost:8080/",
          "height": 34
        },
        "outputId": "6823f97d-3aaf-45de-8c11-7f1ba32170b8"
      },
      "source": [
        "# Testing the model\n",
        "model.eval()\n",
        "with torch.no_grad():\n",
        "  correct = 0\n",
        "  total = 0\n",
        "  for images,labels in test_loader:\n",
        "    images = images.to(device)\n",
        "    labels = labels.to(device)\n",
        "    output = model(images)\n",
        "    _,predicted = torch.max(output.data, 1)\n",
        "    total += labels.size(0)\n",
        "    correct += (predicted == labels).sum().item()\n",
        "\n",
        "  print(\"Accuracy of the model on test images: {} %\".format(100 * correct /total))\n"
      ],
      "execution_count": null,
      "outputs": [
        {
          "output_type": "stream",
          "text": [
            "Accuracy of the model on test images: 85.01 %\n"
          ],
          "name": "stdout"
        }
      ]
    },
    {
      "cell_type": "code",
      "metadata": {
        "id": "4Ua_kI-SJ9Uk",
        "colab_type": "code",
        "colab": {}
      },
      "source": [
        ""
      ],
      "execution_count": null,
      "outputs": []
    }
  ]
}