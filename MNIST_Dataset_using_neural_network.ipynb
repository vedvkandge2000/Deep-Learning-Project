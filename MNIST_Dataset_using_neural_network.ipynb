{
  "nbformat": 4,
  "nbformat_minor": 0,
  "metadata": {
    "colab": {
      "name": "MNIST Dataset using neural network.ipynb",
      "provenance": [],
      "collapsed_sections": [],
      "authorship_tag": "ABX9TyPIrXC3ea2ooqnHiwY2jBZt",
      "include_colab_link": true
    },
    "kernelspec": {
      "name": "python3",
      "display_name": "Python 3"
    },
    "accelerator": "GPU"
  },
  "cells": [
    {
      "cell_type": "markdown",
      "metadata": {
        "id": "view-in-github",
        "colab_type": "text"
      },
      "source": [
        "<a href=\"https://colab.research.google.com/github/vedvkandge2000/Deep-Learning-Project/blob/master/MNIST_Dataset_using_neural_network.ipynb\" target=\"_parent\"><img src=\"https://colab.research.google.com/assets/colab-badge.svg\" alt=\"Open In Colab\"/></a>"
      ]
    },
    {
      "cell_type": "code",
      "metadata": {
        "id": "BSvyDBBL_mPg",
        "colab_type": "code",
        "colab": {}
      },
      "source": [
        "import torch\n",
        "import torch.nn as nn\n",
        "import torchvision.datasets as datasets\n",
        "import torchvision.transforms as transforms\n",
        "import torch.autograd as Variable"
      ],
      "execution_count": null,
      "outputs": []
    },
    {
      "cell_type": "code",
      "metadata": {
        "id": "TWpui4pXDj-f",
        "colab_type": "code",
        "colab": {}
      },
      "source": [
        "input_size = 784      # Number of neurons in input layer\n",
        "hidden_size = 400     # Number of neurons in hidden layer\n",
        "out_size = 10         # Number of neurons in output_layer\n",
        "epochs = 10           # How many times we pass entire dataset to our model\n",
        "batch_size = 100      # Input Size of the data during one iteration\n",
        "learning_rate = 0.001 # How fast are learing is"
      ],
      "execution_count": null,
      "outputs": []
    },
    {
      "cell_type": "code",
      "metadata": {
        "id": "AtUb0h3TEyrt",
        "colab_type": "code",
        "colab": {}
      },
      "source": [
        "train_dataset = datasets.MNIST(root=\"/content/data\",\n",
        "                               train=True,\n",
        "                               transform=transforms.ToTensor(),\n",
        "                               download=True)\n",
        "test_dataset = datasets.MNIST(root=\"/content/data\",\n",
        "                              train=False,\n",
        "                              transform=transforms.ToTensor())"
      ],
      "execution_count": null,
      "outputs": []
    },
    {
      "cell_type": "code",
      "metadata": {
        "id": "G3E5gY58FwNt",
        "colab_type": "code",
        "colab": {}
      },
      "source": [
        "# To divied the data into different batches we uses dataloader. shuffle the data to make it independent of order\n",
        "train_loader = torch.utils.data.DataLoader(dataset=train_dataset,\n",
        "                                           batch_size=batch_size,\n",
        "                                           shuffle=True)\n",
        "test_loader = torch.utils.data.DataLoader(dataset=test_dataset,\n",
        "                                          batch_size=batch_size,\n",
        "                                          shuffle=True)"
      ],
      "execution_count": null,
      "outputs": []
    },
    {
      "cell_type": "code",
      "metadata": {
        "id": "y5LqdhOUFxJo",
        "colab_type": "code",
        "colab": {}
      },
      "source": [
        "# Defining network class\n",
        "class Net(nn.Module):\n",
        "  def __init__(self,input_size,hidden_size,out_size):\n",
        "    super(Net,self).__init__()\n",
        "    self.fc1 = nn.Linear(input_size,hidden_size)   # First layer\n",
        "    self.relu = nn.ReLU()                          # First layer activation function\n",
        "    self.fc2 = nn.Linear(hidden_size,hidden_size)  # Second layer \n",
        "    self.fc3 = nn.Linear(hidden_size,out_size)     # Final layer\n",
        "    # we can apply batch normalisation layer.\n",
        "\n",
        "  def forward(self,x):\n",
        "    out = self.fc1(x)\n",
        "    out = self.relu(out)\n",
        "    out = self.fc2(out)\n",
        "    out = self.relu(out)\n",
        "    out = self.fc3(out)\n",
        "    return out"
      ],
      "execution_count": null,
      "outputs": []
    },
    {
      "cell_type": "code",
      "metadata": {
        "id": "sAIyH1ECcLrc",
        "colab_type": "code",
        "colab": {}
      },
      "source": [
        "# Creating the object\n",
        "net = Net(input_size,hidden_size,out_size)\n",
        "CUDA = torch.cuda.is_available()\n",
        "if CUDA:\n",
        "  net = net.cuda()\n",
        "# Loss function. We are using cross entropy loss which comes along with softmax because this generally used for image classification.\n",
        "criterion = nn.CrossEntropyLoss()\n",
        "optimizer = torch.optim.Adam(net.parameters(), lr=learning_rate)"
      ],
      "execution_count": null,
      "outputs": []
    },
    {
      "cell_type": "code",
      "metadata": {
        "id": "vWy8pHMNc5F4",
        "colab_type": "code",
        "colab": {
          "base_uri": "https://localhost:8080/",
          "height": 1000
        },
        "outputId": "de2d87b8-054b-4c65-9dc8-6286aeb26c77"
      },
      "source": [
        "# Train Model\n",
        "correct_train = 0\n",
        "total_train = 0\n",
        "for epoch in range(epochs):\n",
        "  for i, (images,labels) in enumerate(train_loader):\n",
        "    # Flatten the image of form (batch,1,28,28) --> (100,1,28,28) to reshape it to (100,784)\n",
        "    images = images.view(-1, 28*28)\n",
        "    if CUDA:\n",
        "      images = images.cuda()\n",
        "      labels = labels.cuda() \n",
        "    # Clear the params_grad in param = param - lr * praram_grad , so it won't get accumilated\n",
        "    optimizer.zero_grad()\n",
        "    outputs = net(images)  # forward prop\n",
        "    _, predicted = torch.max(outputs.data,1)  # Returns the second argu of torch.max i.e index of max prob. (total of 10)\n",
        "\n",
        "    total_train += labels.size(0)\n",
        "    if CUDA:\n",
        "      correct_train += (predicted.cpu() == labels.cpu()).sum()\n",
        "    else:\n",
        "      correct_train += (predicted == labels).sum()\n",
        "    \n",
        "    loss = criterion(outputs,labels)   # Difference between actual and predictd label (loss function)\n",
        "    loss.backward()                    # Backpropagation\n",
        "    optimizer.step()                   # Updates the weight\n",
        "\n",
        "    if (i+1) % 100 == 0:\n",
        "      print(\"Epoch [{}/{}], Iteration [{}/{}], Training Loss: {}, training accuracy: {}%\".format\n",
        "            (epoch+1,epochs,i+1, len(train_dataset)//batch_size, loss.data,(100*correct_train/total_train)))\n",
        "    \n",
        "print(\"Completed Training!!\")\n",
        "\n"
      ],
      "execution_count": null,
      "outputs": [
        {
          "output_type": "stream",
          "text": [
            "/pytorch/aten/src/ATen/native/BinaryOps.cpp:81: UserWarning: Integer division of tensors using div or / is deprecated, and in a future release div will perform true division as in Python 3. Use true_divide or floor_divide (// in Python) instead.\n"
          ],
          "name": "stderr"
        },
        {
          "output_type": "stream",
          "text": [
            "Epoch [1/10], Iteration [100/600], Training Loss: 0.3547051250934601, training accuracy: 91%\n",
            "Epoch [1/10], Iteration [200/600], Training Loss: 0.35620513558387756, training accuracy: 92%\n",
            "Epoch [1/10], Iteration [300/600], Training Loss: 0.19471454620361328, training accuracy: 93%\n",
            "Epoch [1/10], Iteration [400/600], Training Loss: 0.2647280991077423, training accuracy: 93%\n",
            "Epoch [1/10], Iteration [500/600], Training Loss: 0.06302858144044876, training accuracy: 94%\n",
            "Epoch [1/10], Iteration [600/600], Training Loss: 0.17127010226249695, training accuracy: 94%\n",
            "Epoch [2/10], Iteration [100/600], Training Loss: 0.11000623553991318, training accuracy: 94%\n",
            "Epoch [2/10], Iteration [200/600], Training Loss: 0.05861934274435043, training accuracy: 95%\n",
            "Epoch [2/10], Iteration [300/600], Training Loss: 0.13964661955833435, training accuracy: 95%\n",
            "Epoch [2/10], Iteration [400/600], Training Loss: 0.022027133032679558, training accuracy: 95%\n",
            "Epoch [2/10], Iteration [500/600], Training Loss: 0.06512875854969025, training accuracy: 95%\n",
            "Epoch [2/10], Iteration [600/600], Training Loss: 0.06438535451889038, training accuracy: 95%\n",
            "Epoch [3/10], Iteration [100/600], Training Loss: 0.02215324155986309, training accuracy: 96%\n",
            "Epoch [3/10], Iteration [200/600], Training Loss: 0.01937081292271614, training accuracy: 96%\n",
            "Epoch [3/10], Iteration [300/600], Training Loss: 0.06929713487625122, training accuracy: 96%\n",
            "Epoch [3/10], Iteration [400/600], Training Loss: 0.11512865126132965, training accuracy: 96%\n",
            "Epoch [3/10], Iteration [500/600], Training Loss: 0.03281598165631294, training accuracy: 96%\n",
            "Epoch [3/10], Iteration [600/600], Training Loss: 0.05622150003910065, training accuracy: 96%\n",
            "Epoch [4/10], Iteration [100/600], Training Loss: 0.03270881995558739, training accuracy: 96%\n",
            "Epoch [4/10], Iteration [200/600], Training Loss: 0.029552264139056206, training accuracy: 96%\n",
            "Epoch [4/10], Iteration [300/600], Training Loss: 0.10152595490217209, training accuracy: 96%\n",
            "Epoch [4/10], Iteration [400/600], Training Loss: 0.009704041294753551, training accuracy: 97%\n",
            "Epoch [4/10], Iteration [500/600], Training Loss: 0.2366771697998047, training accuracy: 97%\n",
            "Epoch [4/10], Iteration [600/600], Training Loss: 0.06037450209259987, training accuracy: 97%\n",
            "Epoch [5/10], Iteration [100/600], Training Loss: 0.0709981620311737, training accuracy: 97%\n",
            "Epoch [5/10], Iteration [200/600], Training Loss: 0.0697532594203949, training accuracy: 97%\n",
            "Epoch [5/10], Iteration [300/600], Training Loss: 0.10214056074619293, training accuracy: 97%\n",
            "Epoch [5/10], Iteration [400/600], Training Loss: 0.07492843270301819, training accuracy: 97%\n",
            "Epoch [5/10], Iteration [500/600], Training Loss: 0.036830831319093704, training accuracy: 97%\n",
            "Epoch [5/10], Iteration [600/600], Training Loss: 0.07687006145715714, training accuracy: 97%\n",
            "Epoch [6/10], Iteration [100/600], Training Loss: 0.0043716575019061565, training accuracy: 97%\n",
            "Epoch [6/10], Iteration [200/600], Training Loss: 0.0020789671689271927, training accuracy: 97%\n",
            "Epoch [6/10], Iteration [300/600], Training Loss: 0.023887531831860542, training accuracy: 97%\n",
            "Epoch [6/10], Iteration [400/600], Training Loss: 0.01321842148900032, training accuracy: 97%\n",
            "Epoch [6/10], Iteration [500/600], Training Loss: 0.008968324400484562, training accuracy: 97%\n",
            "Epoch [6/10], Iteration [600/600], Training Loss: 0.009323826059699059, training accuracy: 97%\n",
            "Epoch [7/10], Iteration [100/600], Training Loss: 0.0021018313709646463, training accuracy: 97%\n",
            "Epoch [7/10], Iteration [200/600], Training Loss: 0.04063103720545769, training accuracy: 97%\n",
            "Epoch [7/10], Iteration [300/600], Training Loss: 0.011802766472101212, training accuracy: 97%\n",
            "Epoch [7/10], Iteration [400/600], Training Loss: 0.009574346244335175, training accuracy: 97%\n",
            "Epoch [7/10], Iteration [500/600], Training Loss: 0.00512677663937211, training accuracy: 98%\n",
            "Epoch [7/10], Iteration [600/600], Training Loss: 0.004621520172804594, training accuracy: 98%\n",
            "Epoch [8/10], Iteration [100/600], Training Loss: 0.0031513499561697245, training accuracy: 98%\n",
            "Epoch [8/10], Iteration [200/600], Training Loss: 0.000674128532409668, training accuracy: 98%\n",
            "Epoch [8/10], Iteration [300/600], Training Loss: 0.008072278462350368, training accuracy: 98%\n",
            "Epoch [8/10], Iteration [400/600], Training Loss: 0.007126116659492254, training accuracy: 98%\n",
            "Epoch [8/10], Iteration [500/600], Training Loss: 0.01281599048525095, training accuracy: 98%\n",
            "Epoch [8/10], Iteration [600/600], Training Loss: 0.001256113057024777, training accuracy: 98%\n",
            "Epoch [9/10], Iteration [100/600], Training Loss: 0.029686501249670982, training accuracy: 98%\n",
            "Epoch [9/10], Iteration [200/600], Training Loss: 0.01930413767695427, training accuracy: 98%\n",
            "Epoch [9/10], Iteration [300/600], Training Loss: 0.014542410150170326, training accuracy: 98%\n",
            "Epoch [9/10], Iteration [400/600], Training Loss: 0.018093781545758247, training accuracy: 98%\n",
            "Epoch [9/10], Iteration [500/600], Training Loss: 0.00140614272095263, training accuracy: 98%\n",
            "Epoch [9/10], Iteration [600/600], Training Loss: 0.009235318750143051, training accuracy: 98%\n",
            "Epoch [10/10], Iteration [100/600], Training Loss: 0.0029999972321093082, training accuracy: 98%\n",
            "Epoch [10/10], Iteration [200/600], Training Loss: 0.004020204767584801, training accuracy: 98%\n",
            "Epoch [10/10], Iteration [300/600], Training Loss: 0.01062353141605854, training accuracy: 98%\n",
            "Epoch [10/10], Iteration [400/600], Training Loss: 0.0015566396759822965, training accuracy: 98%\n",
            "Epoch [10/10], Iteration [500/600], Training Loss: 0.0201964620500803, training accuracy: 98%\n",
            "Epoch [10/10], Iteration [600/600], Training Loss: 0.0031569337006658316, training accuracy: 98%\n",
            "Completed Training!!\n"
          ],
          "name": "stdout"
        }
      ]
    },
    {
      "cell_type": "code",
      "metadata": {
        "id": "SlgOCS2oc--M",
        "colab_type": "code",
        "colab": {
          "base_uri": "https://localhost:8080/",
          "height": 34
        },
        "outputId": "494894d0-f233-48cf-e3af-ebbfa4b62ac7"
      },
      "source": [
        "# Test network (No weigth updation and weight calculation , no loss calculation)\n",
        "correct = 0\n",
        "total = 0\n",
        "for images,labels in test_loader:\n",
        "  images = images.view(-1, 28*28)\n",
        "  if CUDA:\n",
        "    images = images.cuda()\n",
        "  outputs = net(images)\n",
        "\n",
        "  _, predicted = torch.max(outputs.data, 1)\n",
        "  total += labels.size(0)\n",
        "\n",
        "  if CUDA:\n",
        "    correct += (predicted.cpu() == labels.cpu()).sum()\n",
        "  else:\n",
        "    correct += (predicted == labels).sum()\n",
        "\n",
        "print(\"Final Test Accuracy: %d %%\" %(100 * correct / total))\n"
      ],
      "execution_count": null,
      "outputs": [
        {
          "output_type": "stream",
          "text": [
            "Final Test Accuracy: 98 %\n"
          ],
          "name": "stdout"
        }
      ]
    },
    {
      "cell_type": "code",
      "metadata": {
        "id": "tjvXmiWOqDD1",
        "colab_type": "code",
        "colab": {}
      },
      "source": [
        ""
      ],
      "execution_count": null,
      "outputs": []
    },
    {
      "cell_type": "code",
      "metadata": {
        "id": "6baFeDqGqa31",
        "colab_type": "code",
        "colab": {}
      },
      "source": [
        ""
      ],
      "execution_count": null,
      "outputs": []
    }
  ]
}